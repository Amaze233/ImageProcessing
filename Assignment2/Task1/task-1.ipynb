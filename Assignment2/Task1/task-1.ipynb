{
 "cells": [
  {
   "cell_type": "markdown",
   "source": [
    "# Task 1:Gaussian Filter\n",
    "Implement the Gaussian filter function with the parameters kernel size and standard deviation. The kernel size is\n",
    "an odd number greater than 1, and the standard deviation is a non-negative number. Some examples are shown in\n",
    "Figure 1.\n"
   ],
   "metadata": {
    "collapsed": false
   },
   "id": "375a950f6bb34d83"
  },
  {
   "cell_type": "code",
   "execution_count": 4,
   "id": "initial_id",
   "metadata": {
    "collapsed": true,
    "ExecuteTime": {
     "end_time": "2024-11-06T11:55:12.688369Z",
     "start_time": "2024-11-06T11:55:12.684358Z"
    }
   },
   "outputs": [],
   "source": [
    "import math\n",
    "import os.path as osp\n",
    "\n",
    "import cv2\n",
    "import numpy as np"
   ]
  },
  {
   "cell_type": "markdown",
   "source": [
    "## Gaussian Filter Function\n",
    "$G_\\sigma(x,y)=\\frac1{2\\pi\\sigma^2}e^{-\\frac{x^2+y^2}{2\\sigma^2}}$"
   ],
   "metadata": {
    "collapsed": false
   },
   "id": "54629a3c2949d36"
  },
  {
   "cell_type": "code",
   "outputs": [],
   "source": [
    "def gaussian_filter(img, kernel_size, sigma):\n",
    "    \"\"\"Returns the image after Gaussian filter.\n",
    "    Args:\n",
    "        img: the input image to be Gaussian filtered.\n",
    "        kernel_size: the kernel size in both the X and Y directions.\n",
    "        sigma: the standard deviation in both the X and Y directions.\n",
    "    Returns:\n",
    "        res_img: the output image after Gaussian filter.\n",
    "    \"\"\"\n",
    "    # TODO: implement the Gaussian filter function.\n",
    "    # Placeholder that you can delete. An image with all zeros.\n",
    "    res_img = np.zeros_like(img)\n",
    "    width, height, _ = img.shape\n",
    "\n",
    "    # generate the gaussian kernel matrix (kernel_size x kernel_size)\n",
    "    gaussian_kernel = np.zeros((kernel_size, kernel_size), np.float32)\n",
    "    k = kernel_size // 2  # (k,k) the center of the kernel\n",
    "    for i in range(kernel_size):\n",
    "        for j in range(kernel_size):\n",
    "            # calculate the norm of (i,j) to center\n",
    "            norm = math.pow(i - k, 2) + math.pow(j - k, 2)\n",
    "            # calculate the gaussian kernel\n",
    "            gaussian_kernel[i, j] = math.exp(-norm / (2 * math.pow(sigma, 2))) / math.sqrt(2 * math.pi * sigma**2)\n",
    "\n",
    "    # normalize the kernel\n",
    "    gaussian_kernel /= np.sum(gaussian_kernel)\n",
    "\n",
    "    # apply the gaussian kernel to the image\n",
    "    # don't process the edge values\n",
    "    for i in range(width - 2*k):\n",
    "        for j in range(height - 2*k):\n",
    "            for c in range(3):\n",
    "                ori_matrix = img[i:i + kernel_size, j:j + kernel_size, c]\n",
    "                res_img[i+k, j+k, c] = np.sum(ori_matrix * gaussian_kernel)\n",
    "\n",
    "    return res_img"
   ],
   "metadata": {
    "collapsed": false,
    "ExecuteTime": {
     "end_time": "2024-11-06T11:55:12.703424Z",
     "start_time": "2024-11-06T11:55:12.690374Z"
    }
   },
   "id": "f66deecdae73f239",
   "execution_count": 5
  },
  {
   "cell_type": "markdown",
   "source": [
    "## Test"
   ],
   "metadata": {
    "collapsed": false
   },
   "id": "473f381ecfdee69f"
  },
  {
   "cell_type": "code",
   "outputs": [
    {
     "data": {
      "text/plain": "True"
     },
     "execution_count": 11,
     "metadata": {},
     "output_type": "execute_result"
    }
   ],
   "source": [
    "img = cv2.imread(\"images/Lena-RGB.jpg\")\n",
    "kernel_size = 3\n",
    "sigma = 1\n",
    "res_img = gaussian_filter(img, kernel_size, sigma)\n",
    "cv2.imshow(\"original\", img)\n",
    "cv2.imshow(\"result\", res_img)\n",
    "cv2.waitKey(0)\n",
    "cv2.imwrite(\"results/gaussian_result-k={}-s={}.jpg\".format(kernel_size,sigma), res_img)"
   ],
   "metadata": {
    "collapsed": false,
    "ExecuteTime": {
     "end_time": "2024-11-06T11:56:48.208533Z",
     "start_time": "2024-11-06T11:56:44.377655Z"
    }
   },
   "id": "7b9c39bf91392fbf",
   "execution_count": 11
  },
  {
   "cell_type": "code",
   "outputs": [],
   "source": [],
   "metadata": {
    "collapsed": false
   },
   "id": "4c1edb0f9b3a8dcf"
  }
 ],
 "metadata": {
  "kernelspec": {
   "display_name": "Python 3",
   "language": "python",
   "name": "python3"
  },
  "language_info": {
   "codemirror_mode": {
    "name": "ipython",
    "version": 2
   },
   "file_extension": ".py",
   "mimetype": "text/x-python",
   "name": "python",
   "nbconvert_exporter": "python",
   "pygments_lexer": "ipython2",
   "version": "2.7.6"
  }
 },
 "nbformat": 4,
 "nbformat_minor": 5
}
