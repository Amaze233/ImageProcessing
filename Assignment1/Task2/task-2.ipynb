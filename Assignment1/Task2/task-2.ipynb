{
 "cells": [
  {
   "cell_type": "code",
   "execution_count": 107,
   "metadata": {
    "id": "GDBkWiYfiISM",
    "ExecuteTime": {
     "end_time": "2024-10-18T13:26:07.618168Z",
     "start_time": "2024-10-18T13:26:07.606780Z"
    }
   },
   "outputs": [],
   "source": [
    "import numpy as np\n",
    "import itertools\n",
    "# %matplotlib inline\n",
    "import matplotlib.pyplot as plt\n",
    "from scipy.spatial.transform import Rotation as R\n",
    "from matplotlib import animation\n",
    "from matplotlib.patches import Polygon\n",
    "import cv2\n",
    "\n",
    "# Let's first define hyperparameters. In our case, we set the image height H and width H to 128 pixels.\n",
    "H, W = 128, 128"
   ]
  },
  {
   "cell_type": "markdown",
   "source": [
    "**Generate the cube data**"
   ],
   "metadata": {
    "collapsed": false
   }
  },
  {
   "cell_type": "code",
   "execution_count": 108,
   "metadata": {
    "id": "dxtMOGgIiLwp",
    "ExecuteTime": {
     "end_time": "2024-10-18T13:26:07.634050Z",
     "start_time": "2024-10-18T13:26:07.623565Z"
    }
   },
   "outputs": [],
   "source": [
    "###########################\n",
    "##### Helper Function #####\n",
    "###########################\n",
    "def get_cube(center=(0, 0, 5), rotation_angles=[0., 0., 0.], scale=1.):\n",
    "    ''' Returns an array containing the faces of a cube.\n",
    "\n",
    "    Args:\n",
    "    center (tuple): center of the cube\n",
    "    rotation_angles (tuple): Euler angles describing the rotation of the cube\n",
    "    scale (float): scale of cube\n",
    "\n",
    "    '''\n",
    "    # A cube consists of 6 faces and 8 corners:\n",
    "    #   +----+\n",
    "    #  /    /|\n",
    "    # +----+ |\n",
    "    # |    | +\n",
    "    # |    |/\n",
    "    # +----+\n",
    "    # Let's first consider the unit cube. The corners are:\n",
    "    corners = np.array([(0, 0, 0), (0, 0, 1), (0, 1, 0), (0, 1, 1), (1, 0, 0), (1, 0, 1), (1, 1, 0), (1, 1, 1)])\n",
    "    # Let's now center the cube at (0, 0, 0)\n",
    "    corners = corners - np.array([0.5, 0.5, 0.5], dtype=np.float32).reshape(1, 3)\n",
    "    # Let's scale the cube\n",
    "    corners = corners * scale\n",
    "    # And we rotate the cube wrt. the input rotation angles\n",
    "    rot_mat = R.from_euler('xyz', rotation_angles, degrees=True).as_matrix()\n",
    "    corners = np.matmul(corners, rot_mat.T)\n",
    "    # Finally, we shift the cube according to the input center tuple\n",
    "    corners = corners + np.array(center, dtype=np.float32).reshape(1, 3)\n",
    "\n",
    "    # The 6 faces of the cube are then given as:\n",
    "    faces = np.array([\n",
    "    # all faces containing (0, 0, 0)\n",
    "    [corners[0], corners[1], corners[3], corners[2]],\n",
    "    [corners[0], corners[1], corners[5], corners[4]],\n",
    "    [corners[0], corners[2], corners[6], corners[4]],\n",
    "    # all faces containing (1, 1, 1)\n",
    "    [corners[-1], corners[-2], corners[-4], corners[-3]],\n",
    "    [corners[-1], corners[-2], corners[-6], corners[-5]],\n",
    "    [corners[-1], corners[-3], corners[-7], corners[-5]],\n",
    "    ])\n",
    "\n",
    "\n",
    "    return faces"
   ]
  },
  {
   "cell_type": "markdown",
   "source": [
    "**Get the Camera Intrinsic Matrix**"
   ],
   "metadata": {
    "collapsed": false
   }
  },
  {
   "cell_type": "code",
   "execution_count": 109,
   "metadata": {
    "id": "1ineb50epN8E",
    "ExecuteTime": {
     "end_time": "2024-10-18T13:26:07.649950Z",
     "start_time": "2024-10-18T13:26:07.641225Z"
    }
   },
   "outputs": [],
   "source": [
    "def get_camera_intrinsics(alpha, beta, cx, cy):\n",
    "    ''' Returns the camera intrinsics matrix.\n",
    "\n",
    "    Hint: The array should be of size 3x3 and of dtype float32 (see the assertion below)\n",
    "\n",
    "    Args:\n",
    "    alpha (float): focal length in x-direction f_x\n",
    "    beta (float): focal length in y-direction f_y\n",
    "    cx (float): x component of the principal point\n",
    "    cy (float): y compontent of th principal point\n",
    "    '''\n",
    "    K = np.array([[alpha, 0, cx],\n",
    "                  [0, beta, cy],\n",
    "                  [0, 0, 1]],dtype=np.float32)\n",
    "    return K\n"
   ]
  },
  {
   "cell_type": "markdown",
   "source": [
    "**Get the Perspective Projection Matrix**"
   ],
   "metadata": {
    "collapsed": false
   }
  },
  {
   "cell_type": "code",
   "execution_count": 110,
   "metadata": {
    "ExecuteTime": {
     "end_time": "2024-10-18T13:26:07.665930Z",
     "start_time": "2024-10-18T13:26:07.651085Z"
    }
   },
   "outputs": [],
   "source": [
    "def get_perspective_projection(x_c, K):\n",
    "    ''' Projects the 3D point x_c to screen space and returns the 2D pixel coordinates.\n",
    "    \n",
    "    Args:\n",
    "        x_c (array): 3D points in camera space (nx3), n is the num of points\n",
    "        K (array): camera intrinsics matrix (3x3)\n",
    "    '''\n",
    "    # transform x_c to homogeneous coordinates (nx4)\n",
    "    projected_point = np.dot(K, x_c.T).T\n",
    "    # normalize the projected points (nx3)\n",
    "    x = projected_point[:, 0] / projected_point[:, 2]\n",
    "    y = projected_point[:, 1] / projected_point[:, 2]\n",
    "    x_s = np.array([x, y],dtype=np.float32)\n",
    "    \n",
    "    return x_s"
   ]
  },
  {
   "cell_type": "markdown",
   "source": [
    "**Get the project cube**"
   ],
   "metadata": {
    "collapsed": false
   }
  },
  {
   "cell_type": "code",
   "execution_count": 111,
   "metadata": {
    "ExecuteTime": {
     "end_time": "2024-10-18T13:26:07.681540Z",
     "start_time": "2024-10-18T13:26:07.667059Z"
    }
   },
   "outputs": [],
   "source": [
    "def project_cube(cube, K):\n",
    "    ''' Projects the cube.\n",
    "    \n",
    "    Args:\n",
    "        cube (array): cube\n",
    "        K (array): camera intrinsics matrix\n",
    "    '''\n",
    "    \n",
    "    projected_cube =[]\n",
    "    # interate through each face of the cube\n",
    "    for face in cube:\n",
    "        projected_cube.append(np.array(get_perspective_projection(face,K),dtype=np.float32))\n",
    "    \n",
    "    return np.array(projected_cube,dtype=np.float32)"
   ]
  },
  {
   "cell_type": "markdown",
   "source": [
    "**Plot the 2D projection of the cube**"
   ],
   "metadata": {
    "collapsed": false
   }
  },
  {
   "cell_type": "code",
   "execution_count": 112,
   "metadata": {
    "id": "wQkRJQrncZtI",
    "ExecuteTime": {
     "end_time": "2024-10-18T13:26:07.697125Z",
     "start_time": "2024-10-18T13:26:07.682536Z"
    }
   },
   "outputs": [],
   "source": [
    "from scipy.spatial import ConvexHull\n",
    "\n",
    "\n",
    "def plot_projected_cube(projected_cube,rotation_angles):\n",
    "    ''' Plots the projected cube.\n",
    "\n",
    "    Args:\n",
    "    projected_cube (array): projected cube (size 6x4x2)\n",
    "    '''\n",
    "    fig = plt.figure()\n",
    "    ax = fig.add_subplot(111)\n",
    "    # Collect all the points from the projected cube\n",
    "    points = []\n",
    "    for face in projected_cube:\n",
    "        for i in range(face.shape[1]):\n",
    "            points.append((face[0][i], face[1][i]))\n",
    "   \n",
    "    # Remove duplicate points\n",
    "    unique_points = frozenset(map(tuple, points))\n",
    "    points = np.array(list(unique_points))\n",
    "    # Plot the points\n",
    "    ax.scatter(points[:, 0], points[:, 1], label='Projected Corner Points')\n",
    "\n",
    "    # Compute the convex hull of the points\n",
    "    hull = ConvexHull(points)\n",
    "    convex_points = points[hull.vertices]\n",
    "    # Plot the convex hull\n",
    "    ax.fill(convex_points[:, 0], convex_points[:, 1], 'gray', alpha=0.5, label='Filled Convex Hull')\n",
    "\n",
    "    # Set the aspect ratio to be equal\n",
    "    ax.set_aspect('equal')\n",
    "    plt.xlabel('Width')\n",
    "    plt.ylabel('Height')\n",
    "    plt.ylim(0,130)\n",
    "    plt.xlim(0,130)\n",
    "    plt.savefig('results/cube-{}.png'.format(rotation_angles))\n",
    "    plt.show()"
   ]
  },
  {
   "cell_type": "markdown",
   "source": [
    "**Test**"
   ],
   "metadata": {
    "collapsed": false
   }
  },
  {
   "cell_type": "markdown",
   "source": [],
   "metadata": {
    "collapsed": false
   }
  },
  {
   "cell_type": "code",
   "execution_count": 113,
   "metadata": {
    "colab": {
     "base_uri": "https://localhost:8080/",
     "height": 370
    },
    "id": "5LSrqBQVcF4d",
    "outputId": "5cbb4a15-9e21-42f4-99bb-d8d61b2498b9",
    "ExecuteTime": {
     "end_time": "2024-10-18T13:26:07.813007Z",
     "start_time": "2024-10-18T13:26:07.698676Z"
    }
   },
   "outputs": [
    {
     "data": {
      "text/plain": "<Figure size 640x480 with 1 Axes>",
      "image/png": "[encoded data removed]"
     },
     "metadata": {},
     "output_type": "display_data"
    }
   ],
   "source": [
    "K = get_camera_intrinsics(alpha=300, beta=300, cx=W/2., cy=H/2.)\n",
    "cube = get_cube(rotation_angles=[30, 50, 0])\n",
    "projected_cube = project_cube(cube, K)\n",
    "plot_projected_cube(projected_cube,rotation_angles=[60, 60, -60])"
   ]
  },
  {
   "cell_type": "code",
   "outputs": [],
   "source": [],
   "metadata": {
    "collapsed": false,
    "ExecuteTime": {
     "end_time": "2024-10-18T13:26:07.828755Z",
     "start_time": "2024-10-18T13:26:07.813509Z"
    }
   },
   "execution_count": 113
  }
 ],
 "metadata": {
  "colab": {
   "collapsed_sections": [],
   "name": "lecture_cv_projection2.ipynb",
   "provenance": []
  },
  "kernelspec": {
   "display_name": "Python 3",
   "language": "python",
   "name": "python3"
  },
  "language_info": {
   "codemirror_mode": {
    "name": "ipython",
    "version": 3
   },
   "file_extension": ".py",
   "mimetype": "text/x-python",
   "name": "python",
   "nbconvert_exporter": "python",
   "pygments_lexer": "ipython3",
   "version": "3.8.8"
  }
 },
 "nbformat": 4,
 "nbformat_minor": 1
}
