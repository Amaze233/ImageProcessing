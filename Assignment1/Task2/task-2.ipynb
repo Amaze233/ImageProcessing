{
 "cells": [
  {
   "cell_type": "code",
   "execution_count": null,
   "metadata": {
    "id": "GDBkWiYfiISM"
   },
   "outputs": [],
   "source": [
    "import numpy as np\n",
    "import itertools\n",
    "# %matplotlib inline\n",
    "import matplotlib.pyplot as plt\n",
    "from scipy.spatial.transform import Rotation as R\n",
    "from matplotlib import animation\n",
    "from matplotlib.patches import Polygon\n",
    "import cv2\n",
    "\n",
    "# Let's first define hyperparameters. In our case, we set the image height H and width H to 128 pixels.\n",
    "H, W = 128, 128"
   ]
  },
  {
   "cell_type": "code",
   "execution_count": null,
   "metadata": {
    "id": "dxtMOGgIiLwp"
   },
   "outputs": [],
   "source": [
    "###########################\n",
    "##### Helper Function #####\n",
    "###########################\n",
    "def get_cube(center=(0, 0, 2), rotation_angles=[0., 0., 0.], scale=1.):\n",
    "    ''' Returns an array containing the faces of a cube.\n",
    "\n",
    "    Args:\n",
    "    center (tuple): center of the cube\n",
    "    rotation_angles (tuple): Euler angles describing the rotation of the cube\n",
    "    scale (float): scale of cube\n",
    "\n",
    "    '''\n",
    "    # A cube consists of 6 faces and 8 corners:\n",
    "    #   +----+\n",
    "    #  /    /|\n",
    "    # +----+ |\n",
    "    # |    | +\n",
    "    # |    |/\n",
    "    # +----+\n",
    "    # Let's first consider the unit cube. The corners are:\n",
    "    corners = np.array([(0, 0, 0), (0, 0, 1), (0, 1, 0), (0, 1, 1), (1, 0, 0), (1, 0, 1), (1, 1, 0), (1, 1, 1)])\n",
    "    # Let's now center the cube at (0, 0, 0)\n",
    "    corners = corners - np.array([0.5, 0.5, 0.5], dtype=np.float32).reshape(1, 3)\n",
    "    # Let's scale the cube\n",
    "    corners = corners * scale\n",
    "    # And we rotate the cube wrt. the input rotation angles\n",
    "    rot_mat = R.from_euler('xyz', rotation_angles, degrees=True).as_matrix()\n",
    "    corners = np.matmul(corners, rot_mat.T)\n",
    "    # Finally, we shift the cube according to the input center tuple\n",
    "    corners = corners + np.array(center, dtype=np.float32).reshape(1, 3)\n",
    "\n",
    "    # The 6 faces of the cube are then given as:\n",
    "    faces = np.array([\n",
    "    # all faces containing (0, 0, 0)\n",
    "    [corners[0], corners[1], corners[3], corners[2]],\n",
    "    [corners[0], corners[1], corners[5], corners[4]],\n",
    "    [corners[0], corners[2], corners[6], corners[4]],\n",
    "    # all faces containing (1, 1, 1)\n",
    "    [corners[-1], corners[-2], corners[-4], corners[-3]],\n",
    "    [corners[-1], corners[-2], corners[-6], corners[-5]],\n",
    "    [corners[-1], corners[-3], corners[-7], corners[-5]],\n",
    "    ])\n",
    "\n",
    "\n",
    "    return faces"
   ]
  },
  {
   "cell_type": "code",
   "execution_count": null,
   "metadata": {
    "id": "1ineb50epN8E"
   },
   "outputs": [],
   "source": [
    "def get_camera_intrinsics(alpha=70, beta=70, cx=W/2., cy=H/2.):\n",
    "    ''' Returns the camera intrinsics matrix.\n",
    "\n",
    "    Hint: The array should be of size 3x3 and of dtype float32 (see the assertion below)\n",
    "\n",
    "    Args:\n",
    "    alpha (float): focal length in x-direction f_x\n",
    "    beta (float): focal length in y-direction f_y\n",
    "    cx (float): x component of the principal point\n",
    "    cy (float): y compontent of th principal point\n",
    "    '''\n",
    "    # return K\n",
    "    pass"
   ]
  },
  {
   "cell_type": "code",
   "execution_count": null,
   "metadata": {},
   "outputs": [],
   "source": [
    "def get_perspective_projection(x_c, K):\n",
    "    ''' Projects the 3D point x_c to screen space and returns the 2D pixel coordinates.\n",
    "    \n",
    "    Args:\n",
    "        x_c (array): 3D points in camera space (nx3), n is the num of points\n",
    "        K (array): camera intrinsics matrix (3x3)\n",
    "    '''\n",
    "    # return x_s\n",
    "    pass"
   ]
  },
  {
   "cell_type": "code",
   "execution_count": null,
   "metadata": {},
   "outputs": [],
   "source": [
    "def project_cube(cube, K):\n",
    "    ''' Projects the cube.\n",
    "    \n",
    "    Args:\n",
    "        cube (array): cube\n",
    "        K (array): camera intrinsics matrix\n",
    "    '''\n",
    "    # return projected_cube\n",
    "    pass"
   ]
  },
  {
   "cell_type": "code",
   "execution_count": null,
   "metadata": {
    "id": "wQkRJQrncZtI"
   },
   "outputs": [],
   "source": [
    "def plot_projected_cube(projected_cube):\n",
    "    ''' Plots the projected cube.\n",
    "\n",
    "    Args:\n",
    "    projected_cube (array): projected cube (size 6x4x2)\n",
    "    '''\n",
    "    pass"
   ]
  },
  {
   "cell_type": "code",
   "execution_count": null,
   "metadata": {
    "colab": {
     "base_uri": "https://localhost:8080/",
     "height": 370
    },
    "id": "5LSrqBQVcF4d",
    "outputId": "5cbb4a15-9e21-42f4-99bb-d8d61b2498b9"
   },
   "outputs": [],
   "source": [
    "K = get_camera_intrinsics()\n",
    "cube = get_cube(rotation_angles=[30, 50, 0])\n",
    "projected_cube = project_cube(cube, K)\n",
    "plot_projected_cube(projected_cube)"
   ]
  }
 ],
 "metadata": {
  "colab": {
   "collapsed_sections": [],
   "name": "lecture_cv_projection2.ipynb",
   "provenance": []
  },
  "kernelspec": {
   "display_name": "Python 3",
   "language": "python",
   "name": "python3"
  },
  "language_info": {
   "codemirror_mode": {
    "name": "ipython",
    "version": 3
   },
   "file_extension": ".py",
   "mimetype": "text/x-python",
   "name": "python",
   "nbconvert_exporter": "python",
   "pygments_lexer": "ipython3",
   "version": "3.8.8"
  }
 },
 "nbformat": 4,
 "nbformat_minor": 1
}
