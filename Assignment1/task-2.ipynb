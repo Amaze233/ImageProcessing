{
 "cells": [
  {
   "cell_type": "markdown",
   "source": [
    "# Task 2: Local Histogram Equalization\n",
    "1. Implement the original histogram equalization method histogram equalization. (5 points)\n",
    "2. Implement the local histogram equalization method local histogram equalization. (10 points)\n",
    "3. Save and compare the result from the local histogram equalization method to the original_histogram_equalization result. (5 points)\n"
   ],
   "metadata": {
    "collapsed": false
   },
   "id": "9291a6b8817c8c2f"
  },
  {
   "cell_type": "code",
   "execution_count": 1,
   "id": "initial_id",
   "metadata": {
    "collapsed": true,
    "ExecuteTime": {
     "end_time": "2024-11-12T14:53:53.485709Z",
     "start_time": "2024-11-12T14:53:53.291773Z"
    }
   },
   "outputs": [],
   "source": [
    "import os.path as osp\n",
    "\n",
    "import cv2\n",
    "import numpy as np"
   ]
  },
  {
   "cell_type": "markdown",
   "source": [
    "## Implement the original histogram equalization method histogram equalization."
   ],
   "metadata": {
    "collapsed": false
   },
   "id": "37d80a71b5365c5a"
  },
  {
   "cell_type": "code",
   "outputs": [],
   "source": [
    "def histogram_equalization(img):\n",
    "    \"\"\"Returns the image after histogram equalization.\n",
    "    Args:\n",
    "        img: the input image to be executed for histogram equalization.\n",
    "    Returns:\n",
    "        res_img: the output image after histogram equalization.\n",
    "    \"\"\"\n",
    "    # TODO: implement the histogram equalization function.\n",
    "    # Placeholder that you can delete. An image with all zeros.\n",
    "    res_img = np.zeros_like(img)\n",
    "    # 计算直方图\n",
    "    hist, bins = np.histogram(img.flatten(), 256, [0, 256])\n",
    "\n",
    "    # 计算累积分布函数 (CDF)\n",
    "    cdf = hist.cumsum()  # 累加直方图值\n",
    "    cdf_normalized = cdf * (255 / cdf[-1])  # 归一化到[0,255]\n",
    "\n",
    "    # 利用CDF对灰度值进行映射\n",
    "    res_img = np.interp(img.flatten(), bins[:-1], cdf_normalized).reshape(img.shape).astype(np.uint8)\n",
    "    \n",
    "    return res_img.astype(np.uint8)"
   ],
   "metadata": {
    "collapsed": false,
    "ExecuteTime": {
     "end_time": "2024-11-12T14:53:53.501240Z",
     "start_time": "2024-11-12T14:53:53.486708Z"
    }
   },
   "id": "ebdeca397f4edf40",
   "execution_count": 2
  },
  {
   "cell_type": "markdown",
   "source": [
    "## Implement the local histogram equalization method local histogram equalization."
   ],
   "metadata": {
    "collapsed": false
   },
   "id": "614d79b28d5484ed"
  },
  {
   "cell_type": "code",
   "outputs": [],
   "source": [
    "def local_histogram_equalization_1(img, kernel_size = 32):\n",
    "    \"\"\"Returns the image after local histogram equalization.\n",
    "    Args:\n",
    "        img: the input image to be executed for local histogram equalization.\n",
    "    Returns:\n",
    "        res_img: the output image after local histogram equalization.\n",
    "    \"\"\"\n",
    "    # TODO: implement the local histogram equalization function.\n",
    "    # Placeholder that you can delete. An image with all zeros.\n",
    "    res_img = np.zeros_like(img)\n",
    "    h, w = img.shape\n",
    "    # 对图像按块进行局部直方图均衡化\n",
    "    for i in range(0, h, kernel_size):\n",
    "        for j in range(0, w, kernel_size):\n",
    "            # 提取当前块\n",
    "            block = img[i:i+kernel_size, j:j+kernel_size]\n",
    "            \n",
    "            # 应用全局直方图均衡化的步骤到每个块\n",
    "            hist, bins = np.histogram(block.flatten(), 256, [0, 256])\n",
    "            cdf = hist.cumsum()\n",
    "            cdf_normalized = cdf * (hist.max() / cdf.max())\n",
    "            equalized_block = np.interp(block.flatten(), bins[:-1], cdf_normalized).reshape(block.shape).astype(np.uint8)\n",
    "            \n",
    "            # 将均衡化后的块放回图像\n",
    "            res_img[i:i+kernel_size, j:j+kernel_size] = equalized_block\n",
    "    # res_img = histogram_equalization(res_img)\n",
    "    return res_img"
   ],
   "metadata": {
    "collapsed": false,
    "ExecuteTime": {
     "end_time": "2024-11-12T14:53:53.516793Z",
     "start_time": "2024-11-12T14:53:53.502240Z"
    }
   },
   "id": "22b662325473abb1",
   "execution_count": 3
  },
  {
   "cell_type": "code",
   "outputs": [],
   "source": [
    "def local_histogram_equalization(img, kernel_size = 32):\n",
    "    \"\"\"Returns the image after local histogram equalization.\n",
    "    Args:\n",
    "        img: the input image to be executed for local histogram equalization.\n",
    "    Returns:\n",
    "        res_img: the output image after local histogram equalization.\n",
    "    \"\"\"\n",
    "    # TODO: implement the local histogram equalization function.\n",
    "    # Placeholder that you can delete. An image with all zeros.\n",
    "    res_img = np.zeros_like(img)\n",
    "    h, w = img.shape\n",
    "    k_half = kernel_size // 2\n",
    "    # 对图像按块进行局部直方图均衡化\n",
    "    for i in range(h):\n",
    "        for j in range(w):\n",
    "            # 提取当前块\n",
    "            min_row, max_row = max(0, i - k_half), min(i, i + k_half + 1)\n",
    "            min_col, max_col = max(0, j - k_half), min(j, j + k_half + 1)\n",
    "            block = img[min_row:max_row, min_col:max_col]\n",
    "            \n",
    "            # 应用全局直方图均衡化的步骤到每个块\n",
    "            hist, bins = np.histogram(block.flatten(), 256, [0, 256])\n",
    "            cdf = hist.cumsum()\n",
    "            cdf_normalized = cdf * (255 / cdf.max())\n",
    "            \n",
    "            # 将均衡化后的块放回图像\n",
    "            res_img[i, j] = np.interp(img[i, j], bins[:-1], cdf_normalized)\n",
    "    # res_img = histogram_equalization(res_img)\n",
    "    return res_img"
   ],
   "metadata": {
    "collapsed": false,
    "ExecuteTime": {
     "end_time": "2024-11-12T14:53:53.532825Z",
     "start_time": "2024-11-12T14:53:53.518300Z"
    }
   },
   "id": "7848228a6d4d26be",
   "execution_count": 4
  },
  {
   "cell_type": "markdown",
   "source": [
    "## Plot the image and its histogram"
   ],
   "metadata": {
    "collapsed": false
   },
   "id": "a66629f01cf776f1"
  },
  {
   "cell_type": "code",
   "outputs": [],
   "source": [
    "from matplotlib import pyplot as plt\n",
    "from skimage import data\n",
    "from skimage.util.dtype import dtype_range\n",
    "from skimage import exposure\n",
    "\n",
    "def plot_img_and_hist(image, axes, bins=256):\n",
    "    \"\"\"Plot an image along with its histogram and cumulative histogram.\n",
    "\n",
    "    \"\"\"\n",
    "    ax_img, ax_hist = axes\n",
    "    ax_cdf = ax_hist.twinx()\n",
    "\n",
    "    # Display image\n",
    "    ax_img.imshow(image, cmap=plt.cm.gray)\n",
    "    ax_img.set_axis_off()\n",
    "\n",
    "    # Display histogram\n",
    "    ax_hist.hist(image.ravel(), bins=bins)\n",
    "    ax_hist.ticklabel_format(axis='y', style='scientific', scilimits=(0, 0))\n",
    "    ax_hist.set_xlabel('Pixel intensity')\n",
    "\n",
    "    xmin, xmax = dtype_range[image.dtype.type]\n",
    "    ax_hist.set_xlim(xmin, xmax)\n",
    "\n",
    "    # Display cumulative distribution\n",
    "    img_cdf, bins = exposure.cumulative_distribution(image, bins)\n",
    "    ax_cdf.plot(bins, img_cdf, 'r')\n",
    "\n",
    "    return ax_img, ax_hist, ax_cdf"
   ],
   "metadata": {
    "collapsed": false,
    "ExecuteTime": {
     "end_time": "2024-11-12T14:53:54.142480Z",
     "start_time": "2024-11-12T14:53:53.533825Z"
    }
   },
   "id": "5cbd9e60ac6d79aa",
   "execution_count": 5
  },
  {
   "cell_type": "markdown",
   "source": [
    "## Test"
   ],
   "metadata": {
    "collapsed": false
   },
   "id": "3227ac3494a7f887"
  },
  {
   "cell_type": "code",
   "outputs": [],
   "source": [
    "img = cv2.imread(\"images/moon.png\", cv2.IMREAD_COLOR)\n",
    "img = cv2.cvtColor(img, cv2.COLOR_BGR2GRAY)\n",
    "cv2.imshow(\"Original\", img)\n",
    "res_hist_equalization = histogram_equalization(img)\n",
    "kernel_size = 125\n",
    "res_local_hist_equalization = local_histogram_equalization(img, kernel_size=kernel_size)\n",
    "cv2.imwrite(\"results/HistEqualization.jpg\", res_hist_equalization)\n",
    "cv2.imwrite(\"results/LocalHistEqualization-{}.jpg\".format(kernel_size), res_local_hist_equalization)"
   ],
   "metadata": {
    "collapsed": false,
    "is_executing": true
   },
   "id": "1065c96a98e8e662",
   "execution_count": null
  },
  {
   "cell_type": "code",
   "outputs": [],
   "source": [
    "# Plot the images and their histograms\n",
    "# fig, axes = plt.figure(2, 3, figsize=(12, 7.5))\n",
    "fig = plt.figure(figsize=(12, 7))\n",
    "axes = np.zeros((2, 3), dtype=object)\n",
    "axes[0, 0] = plt.subplot(2, 3, 1)\n",
    "axes[0, 1] = plt.subplot(2, 3, 2, sharex=axes[0, 0], sharey=axes[0, 0])\n",
    "axes[0, 2] = plt.subplot(2, 3, 3, sharex=axes[0, 0], sharey=axes[0, 0])\n",
    "axes[1, 0] = plt.subplot(2, 3, 4)\n",
    "axes[1, 1] = plt.subplot(2, 3, 5)\n",
    "axes[1, 2] = plt.subplot(2, 3, 6)\n",
    "\n",
    "ax_img, ax_hist, ax_cdf = plot_img_and_hist(img, axes[:, 0])\n",
    "ax_img.set_title('Original image')\n",
    "ax_hist.set_ylabel('Number of pixels')\n",
    "\n",
    "ax1_img, ax1_hist, ax1_cdf = plot_img_and_hist(res_hist_equalization, axes[:, 1])\n",
    "ax1_img.set_title('Global equalise')\n",
    "\n",
    "ax2_img, ax2_hist, ax2_cdf = plot_img_and_hist(res_local_hist_equalization, axes[:, 2])\n",
    "ax2_img.set_title('Local equalize')\n",
    "ax2_cdf.set_ylabel('Fraction of total intensity')\n",
    "\n",
    "\n",
    "# prevent overlap of y-axis labels\n",
    "fig.tight_layout()\n"
   ],
   "metadata": {
    "collapsed": false,
    "is_executing": true
   },
   "id": "d33734a189940cd5",
   "execution_count": null
  },
  {
   "cell_type": "code",
   "outputs": [],
   "source": [],
   "metadata": {
    "collapsed": false,
    "is_executing": true
   },
   "id": "c2c2c823ef60d9fb",
   "execution_count": null
  }
 ],
 "metadata": {
  "kernelspec": {
   "display_name": "Python 3",
   "language": "python",
   "name": "python3"
  },
  "language_info": {
   "codemirror_mode": {
    "name": "ipython",
    "version": 2
   },
   "file_extension": ".py",
   "mimetype": "text/x-python",
   "name": "python",
   "nbconvert_exporter": "python",
   "pygments_lexer": "ipython2",
   "version": "2.7.6"
  }
 },
 "nbformat": 4,
 "nbformat_minor": 5
}
